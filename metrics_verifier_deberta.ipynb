{
 "cells": [
  {
   "cell_type": "code",
   "execution_count": 1,
   "id": "22761da6-e50b-4746-972e-ca9bd99dfbb2",
   "metadata": {},
   "outputs": [],
   "source": [
    "import pandas as pd\n",
    "import numpy as np\n",
    "from sklearn.metrics import accuracy_score, precision_score, recall_score, f1_score, confusion_matrix"
   ]
  },
  {
   "cell_type": "code",
   "execution_count": 2,
   "id": "44a89e2c-6bbc-4fdb-9f33-508839d25a76",
   "metadata": {},
   "outputs": [],
   "source": [
    "def metrics(predicted_labels,true_labels):\n",
    "    precision = precision_score(true_labels, predicted_labels)\n",
    "    recall = recall_score(true_labels, predicted_labels)\n",
    "    f1 = f1_score(true_labels, predicted_labels)\n",
    "    tn, fp, fn, tp = confusion_matrix(true_labels, predicted_labels).ravel()\n",
    "    print(f\"F1 Score: {f1:.4f}\")\n",
    "    print(f\"Weighted cost: {5*fn+fp}\")"
   ]
  },
  {
   "cell_type": "code",
   "execution_count": 3,
   "id": "8ac23c4c-15e4-4026-93e1-08c34a10d19a",
   "metadata": {},
   "outputs": [],
   "source": [
    "# Llama\n",
    "llama_bad = pd.read_csv(\"output/llama_bad_deberta_finetuned.csv\")\n",
    "llama_good = pd.read_csv(\"output/llama_good_deberta_finetuned.csv\")\n",
    "\n",
    "llama_good_first = []\n",
    "llama_good_second = []\n",
    "for i in range(len(llama_good)):\n",
    "    instance = llama_good.iloc[i]\n",
    "    if pd.isna(instance[\"second_generation\"]):\n",
    "        llama_good_first.append(instance[\"model_output\"].split(\"\\n\")[0])\n",
    "        llama_good_second.append(instance[\"model_output\"].split(\"\\n\")[0])\n",
    "    else:\n",
    "        llama_good_first.append(instance[\"model_output\"].split(\"\\n\")[0])\n",
    "        llama_good_second.append(instance[\"second_generation\"].split(\"\\n\")[0])\n",
    "llama_good_first_result = []\n",
    "llama_good_second_result = []\n",
    "for i in range(len(llama_good)):\n",
    "    if \"good\" in llama_good_first[i].lower():\n",
    "        llama_good_first_result.append(0)\n",
    "    else:\n",
    "        llama_good_first_result.append(1)\n",
    "    \n",
    "    if \"good\" in llama_good_second[i].lower():\n",
    "        llama_good_second_result.append(0)\n",
    "    else:\n",
    "        llama_good_second_result.append(1)\n",
    "\n",
    "llama_bad_first = []\n",
    "llama_bad_second = []\n",
    "for i in range(len(llama_bad)):\n",
    "    instance = llama_bad.iloc[i]\n",
    "    if pd.isna(instance[\"second_generation\"]):\n",
    "        llama_bad_first.append(instance[\"model_output\"].split(\"\\n\")[0])\n",
    "        llama_bad_second.append(instance[\"model_output\"].split(\"\\n\")[0])\n",
    "    else:\n",
    "        llama_bad_first.append(instance[\"model_output\"].split(\"\\n\")[0])\n",
    "        llama_bad_second.append(instance[\"second_generation\"].split(\"\\n\")[0])\n",
    "llama_bad_first_result = []\n",
    "llama_bad_second_result = []\n",
    "for i in range(len(llama_bad)):\n",
    "    if \"good\" in llama_bad_first[i].lower():\n",
    "        llama_bad_first_result.append(0)\n",
    "    else:\n",
    "        llama_bad_first_result.append(1)\n",
    "    \n",
    "    if \"good\" in llama_bad_second[i].lower():\n",
    "        llama_bad_second_result.append(0)\n",
    "    else:\n",
    "        llama_bad_second_result.append(1)"
   ]
  },
  {
   "cell_type": "code",
   "execution_count": 4,
   "id": "7cab601f-dc66-4b96-87e5-c747f7c48e83",
   "metadata": {},
   "outputs": [
    {
     "name": "stdout",
     "output_type": "stream",
     "text": [
      "Llama first round generation without feedback: \n",
      "F1 Score: 0.7642\n",
      "Weighted cost: 41\n",
      "Llama second round generation with deberta feedback: \n",
      "F1 Score: 0.7966\n",
      "Weighted cost: 36\n"
     ]
    }
   ],
   "source": [
    "print(\"Llama first round generation without feedback: \")\n",
    "metrics(llama_good_first_result+llama_bad_first_result, [0]*50+[1]*50)\n",
    "print(\"Llama second round generation with deberta feedback: \")\n",
    "metrics(llama_good_second_result+llama_bad_second_result, [0]*50+[1]*50)"
   ]
  },
  {
   "cell_type": "code",
   "execution_count": 5,
   "id": "29341cab-dd22-4bed-8741-4fc6f17b3ca1",
   "metadata": {},
   "outputs": [],
   "source": [
    "# Gemma\n",
    "gemma_bad = pd.read_csv(\"output/gemma_bad_deberta_finetuned.csv\")\n",
    "gemma_good = pd.read_csv(\"output/gemma_good_deberta_finetuned.csv\")\n",
    "\n",
    "gemma_good_first = []\n",
    "gemma_good_second = []\n",
    "for i in range(len(gemma_good)):\n",
    "    instance = gemma_good.iloc[i]\n",
    "    if pd.isna(instance[\"second_generation\"]):\n",
    "        gemma_good_first.append(instance[\"model_output\"].split(\"\\n\")[0])\n",
    "        gemma_good_second.append(instance[\"model_output\"].split(\"\\n\")[0])\n",
    "    else:\n",
    "        gemma_good_first.append(instance[\"model_output\"].split(\"\\n\")[0])\n",
    "        gemma_good_second.append(instance[\"second_generation\"].split(\"\\n\")[0])\n",
    "gemma_good_first_result = []\n",
    "gemma_good_second_result = []\n",
    "for i in range(len(gemma_good)):\n",
    "    if \"good\" in gemma_good_first[i].lower():\n",
    "        gemma_good_first_result.append(0)\n",
    "    else:\n",
    "        gemma_good_first_result.append(1)\n",
    "    \n",
    "    if \"good\" in gemma_good_second[i].lower():\n",
    "        gemma_good_second_result.append(0)\n",
    "    else:\n",
    "        gemma_good_second_result.append(1)\n",
    "\n",
    "gemma_bad_first = []\n",
    "gemma_bad_second = []\n",
    "for i in range(len(gemma_bad)):\n",
    "    instance = gemma_bad.iloc[i]\n",
    "    if pd.isna(instance[\"second_generation\"]):\n",
    "        gemma_bad_first.append(instance[\"model_output\"].split(\"\\n\")[0])\n",
    "        gemma_bad_second.append(instance[\"model_output\"].split(\"\\n\")[0])\n",
    "    else:\n",
    "        gemma_bad_first.append(instance[\"model_output\"].split(\"\\n\")[0])\n",
    "        gemma_bad_second.append(instance[\"second_generation\"].split(\"\\n\")[0])\n",
    "gemma_bad_first_result = []\n",
    "gemma_bad_second_result = []\n",
    "for i in range(len(gemma_bad)):\n",
    "    if \"good\" in gemma_bad_first[i].lower():\n",
    "        gemma_bad_first_result.append(0)\n",
    "    else:\n",
    "        gemma_bad_first_result.append(1)\n",
    "    \n",
    "    if \"good\" in gemma_bad_second[i].lower():\n",
    "        gemma_bad_second_result.append(0)\n",
    "    else:\n",
    "        gemma_bad_second_result.append(1)"
   ]
  },
  {
   "cell_type": "code",
   "execution_count": 6,
   "id": "e65796f2-56dc-43a3-87fb-ac7f48357dda",
   "metadata": {},
   "outputs": [
    {
     "name": "stdout",
     "output_type": "stream",
     "text": [
      "Gemma first round generation without feedback: \n",
      "F1 Score: 0.6711\n",
      "Weighted cost: 49\n",
      "Gemma second round generation with deberta feedback: \n",
      "F1 Score: 0.6897\n",
      "Weighted cost: 45\n"
     ]
    }
   ],
   "source": [
    "print(\"Gemma first round generation without feedback: \")\n",
    "metrics(gemma_good_first_result+gemma_bad_first_result, [0]*50+[1]*50)\n",
    "print(\"Gemma second round generation with deberta feedback: \")\n",
    "metrics(gemma_good_second_result+gemma_bad_second_result, [0]*50+[1]*50)"
   ]
  },
  {
   "cell_type": "code",
   "execution_count": 7,
   "id": "a4e93f08-0c6c-456b-a8c5-20bb1c370ba8",
   "metadata": {},
   "outputs": [],
   "source": [
    "# Phi\n",
    "phi_bad = pd.read_csv(\"output/phi_bad_deberta_finetuned.csv\")\n",
    "phi_good = pd.read_csv(\"output/phi_good_deberta_finetuned.csv\")\n",
    "\n",
    "phi_good_first = []\n",
    "phi_good_second = []\n",
    "for i in range(len(phi_good)):\n",
    "    instance = phi_good.iloc[i]\n",
    "    if pd.isna(instance[\"second_generation\"]):\n",
    "        phi_good_first.append(instance[\"model_output\"].split(\";\")[0])\n",
    "        phi_good_second.append(instance[\"model_output\"].split(\";\")[0])\n",
    "    else:\n",
    "        phi_good_first.append(instance[\"model_output\"].split(\";\")[0])\n",
    "        phi_good_second.append(instance[\"second_generation\"].split(\";\")[0])\n",
    "phi_good_first_result = []\n",
    "phi_good_second_result = []\n",
    "for i in range(len(phi_good)):\n",
    "    if \"good\" in phi_good_first[i].lower():\n",
    "        phi_good_first_result.append(0)\n",
    "    else:\n",
    "        phi_good_first_result.append(1)\n",
    "    \n",
    "    if \"good\" in phi_good_second[i].lower():\n",
    "        phi_good_second_result.append(0)\n",
    "    else:\n",
    "        phi_good_second_result.append(1)\n",
    "\n",
    "phi_bad_first = []\n",
    "phi_bad_second = []\n",
    "for i in range(len(phi_bad)):\n",
    "    instance = phi_bad.iloc[i]\n",
    "    if pd.isna(instance[\"second_generation\"]):\n",
    "        phi_bad_first.append(instance[\"model_output\"].split(\";\")[0])\n",
    "        phi_bad_second.append(instance[\"model_output\"].split(\";\")[0])\n",
    "    else:\n",
    "        phi_bad_first.append(instance[\"model_output\"].split(\";\")[0])\n",
    "        phi_bad_second.append(instance[\"second_generation\"].split(\";\")[0])\n",
    "phi_bad_first_result = []\n",
    "phi_bad_second_result = []\n",
    "for i in range(len(phi_bad)):\n",
    "    if \"good\" in phi_bad_first[i].lower():\n",
    "        phi_bad_first_result.append(0)\n",
    "    else:\n",
    "        phi_bad_first_result.append(1)\n",
    "    \n",
    "    if \"good\" in phi_bad_second[i].lower():\n",
    "        phi_bad_second_result.append(0)\n",
    "    else:\n",
    "        phi_bad_second_result.append(1)"
   ]
  },
  {
   "cell_type": "code",
   "execution_count": 8,
   "id": "0589f15a-e72c-445f-89ea-a17f46d8ea8c",
   "metadata": {},
   "outputs": [
    {
     "name": "stdout",
     "output_type": "stream",
     "text": [
      "Phi first round generation without feedback: \n",
      "F1 Score: 0.6711\n",
      "Weighted cost: 49\n",
      "Phi second round generation with deberta feedback: \n",
      "F1 Score: 0.6711\n",
      "Weighted cost: 49\n"
     ]
    }
   ],
   "source": [
    "print(\"Phi first round generation without feedback: \")\n",
    "metrics(phi_good_first_result+phi_bad_first_result, [0]*50+[1]*50)\n",
    "print(\"Phi second round generation with deberta feedback: \")\n",
    "metrics(phi_good_second_result+phi_bad_second_result, [0]*50+[1]*50)"
   ]
  }
 ],
 "metadata": {
  "kernelspec": {
   "display_name": "Python 3",
   "language": "python",
   "name": "python3"
  },
  "language_info": {
   "codemirror_mode": {
    "name": "ipython",
    "version": 3
   },
   "file_extension": ".py",
   "mimetype": "text/x-python",
   "name": "python",
   "nbconvert_exporter": "python",
   "pygments_lexer": "ipython3",
   "version": "3.7.13"
  }
 },
 "nbformat": 4,
 "nbformat_minor": 5
}
